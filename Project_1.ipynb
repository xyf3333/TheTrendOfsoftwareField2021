{
 "cells": [
  {
   "cell_type": "markdown",
   "metadata": {},
   "source": [
    "\n",
    "<h1 id='part1'>Project-1</h1>\n",
    "\n",
    "I’m interested in the trends of the software engineering field in 2021. Here are three basic questions.\n",
    "\n",
    "<p>Which Language will most people desire in 2021?\n",
    "Which Database will most people desire in 2021?\n",
    "Which Platform will most people desire in 2021?\n",
    "</p>\n",
    "\n",
    "The dataset I will use in this article for the answers from StackOverflow.\n",
    "first, In order to get a better understanding of the data we will be looking at the dataset, let's take a look at some of the \n",
    "characteristics of the dataset.\n",
    "\n",
    "<h2 id='part1'>Import dataset </h2>"
   ]
  },
  {
   "cell_type": "code",
   "execution_count": 170,
   "metadata": {},
   "outputs": [
    {
     "data": {
      "text/html": [
       "<div>\n",
       "<style>\n",
       "    .dataframe thead tr:only-child th {\n",
       "        text-align: right;\n",
       "    }\n",
       "\n",
       "    .dataframe thead th {\n",
       "        text-align: left;\n",
       "    }\n",
       "\n",
       "    .dataframe tbody tr th {\n",
       "        vertical-align: top;\n",
       "    }\n",
       "</style>\n",
       "<table border=\"1\" class=\"dataframe\">\n",
       "  <thead>\n",
       "    <tr style=\"text-align: right;\">\n",
       "      <th></th>\n",
       "      <th>Respondent</th>\n",
       "      <th>MainBranch</th>\n",
       "      <th>Hobbyist</th>\n",
       "      <th>Age</th>\n",
       "      <th>Age1stCode</th>\n",
       "      <th>CompFreq</th>\n",
       "      <th>CompTotal</th>\n",
       "      <th>ConvertedComp</th>\n",
       "      <th>Country</th>\n",
       "      <th>CurrencyDesc</th>\n",
       "      <th>...</th>\n",
       "      <th>SurveyEase</th>\n",
       "      <th>SurveyLength</th>\n",
       "      <th>Trans</th>\n",
       "      <th>UndergradMajor</th>\n",
       "      <th>WebframeDesireNextYear</th>\n",
       "      <th>WebframeWorkedWith</th>\n",
       "      <th>WelcomeChange</th>\n",
       "      <th>WorkWeekHrs</th>\n",
       "      <th>YearsCode</th>\n",
       "      <th>YearsCodePro</th>\n",
       "    </tr>\n",
       "  </thead>\n",
       "  <tbody>\n",
       "    <tr>\n",
       "      <th>0</th>\n",
       "      <td>1</td>\n",
       "      <td>I am a developer by profession</td>\n",
       "      <td>Yes</td>\n",
       "      <td>NaN</td>\n",
       "      <td>13</td>\n",
       "      <td>Monthly</td>\n",
       "      <td>NaN</td>\n",
       "      <td>NaN</td>\n",
       "      <td>Germany</td>\n",
       "      <td>European Euro</td>\n",
       "      <td>...</td>\n",
       "      <td>Neither easy nor difficult</td>\n",
       "      <td>Appropriate in length</td>\n",
       "      <td>No</td>\n",
       "      <td>Computer science, computer engineering, or sof...</td>\n",
       "      <td>ASP.NET Core</td>\n",
       "      <td>ASP.NET;ASP.NET Core</td>\n",
       "      <td>Just as welcome now as I felt last year</td>\n",
       "      <td>50.0</td>\n",
       "      <td>36</td>\n",
       "      <td>27</td>\n",
       "    </tr>\n",
       "    <tr>\n",
       "      <th>1</th>\n",
       "      <td>2</td>\n",
       "      <td>I am a developer by profession</td>\n",
       "      <td>No</td>\n",
       "      <td>NaN</td>\n",
       "      <td>19</td>\n",
       "      <td>NaN</td>\n",
       "      <td>NaN</td>\n",
       "      <td>NaN</td>\n",
       "      <td>United Kingdom</td>\n",
       "      <td>Pound sterling</td>\n",
       "      <td>...</td>\n",
       "      <td>NaN</td>\n",
       "      <td>NaN</td>\n",
       "      <td>NaN</td>\n",
       "      <td>Computer science, computer engineering, or sof...</td>\n",
       "      <td>NaN</td>\n",
       "      <td>NaN</td>\n",
       "      <td>Somewhat more welcome now than last year</td>\n",
       "      <td>NaN</td>\n",
       "      <td>7</td>\n",
       "      <td>4</td>\n",
       "    </tr>\n",
       "    <tr>\n",
       "      <th>2</th>\n",
       "      <td>3</td>\n",
       "      <td>I code primarily as a hobby</td>\n",
       "      <td>Yes</td>\n",
       "      <td>NaN</td>\n",
       "      <td>15</td>\n",
       "      <td>NaN</td>\n",
       "      <td>NaN</td>\n",
       "      <td>NaN</td>\n",
       "      <td>Russian Federation</td>\n",
       "      <td>NaN</td>\n",
       "      <td>...</td>\n",
       "      <td>Neither easy nor difficult</td>\n",
       "      <td>Appropriate in length</td>\n",
       "      <td>NaN</td>\n",
       "      <td>NaN</td>\n",
       "      <td>NaN</td>\n",
       "      <td>NaN</td>\n",
       "      <td>Somewhat more welcome now than last year</td>\n",
       "      <td>NaN</td>\n",
       "      <td>4</td>\n",
       "      <td>NaN</td>\n",
       "    </tr>\n",
       "    <tr>\n",
       "      <th>3</th>\n",
       "      <td>4</td>\n",
       "      <td>I am a developer by profession</td>\n",
       "      <td>Yes</td>\n",
       "      <td>25.0</td>\n",
       "      <td>18</td>\n",
       "      <td>NaN</td>\n",
       "      <td>NaN</td>\n",
       "      <td>NaN</td>\n",
       "      <td>Albania</td>\n",
       "      <td>Albanian lek</td>\n",
       "      <td>...</td>\n",
       "      <td>NaN</td>\n",
       "      <td>NaN</td>\n",
       "      <td>No</td>\n",
       "      <td>Computer science, computer engineering, or sof...</td>\n",
       "      <td>NaN</td>\n",
       "      <td>NaN</td>\n",
       "      <td>Somewhat less welcome now than last year</td>\n",
       "      <td>40.0</td>\n",
       "      <td>7</td>\n",
       "      <td>4</td>\n",
       "    </tr>\n",
       "    <tr>\n",
       "      <th>4</th>\n",
       "      <td>5</td>\n",
       "      <td>I used to be a developer by profession, but no...</td>\n",
       "      <td>Yes</td>\n",
       "      <td>31.0</td>\n",
       "      <td>16</td>\n",
       "      <td>NaN</td>\n",
       "      <td>NaN</td>\n",
       "      <td>NaN</td>\n",
       "      <td>United States</td>\n",
       "      <td>NaN</td>\n",
       "      <td>...</td>\n",
       "      <td>Easy</td>\n",
       "      <td>Too short</td>\n",
       "      <td>No</td>\n",
       "      <td>Computer science, computer engineering, or sof...</td>\n",
       "      <td>Django;Ruby on Rails</td>\n",
       "      <td>Ruby on Rails</td>\n",
       "      <td>Just as welcome now as I felt last year</td>\n",
       "      <td>NaN</td>\n",
       "      <td>15</td>\n",
       "      <td>8</td>\n",
       "    </tr>\n",
       "  </tbody>\n",
       "</table>\n",
       "<p>5 rows × 61 columns</p>\n",
       "</div>"
      ],
      "text/plain": [
       "   Respondent                                         MainBranch Hobbyist  \\\n",
       "0           1                     I am a developer by profession      Yes   \n",
       "1           2                     I am a developer by profession       No   \n",
       "2           3                        I code primarily as a hobby      Yes   \n",
       "3           4                     I am a developer by profession      Yes   \n",
       "4           5  I used to be a developer by profession, but no...      Yes   \n",
       "\n",
       "    Age Age1stCode CompFreq  CompTotal  ConvertedComp             Country  \\\n",
       "0   NaN         13  Monthly        NaN            NaN             Germany   \n",
       "1   NaN         19      NaN        NaN            NaN      United Kingdom   \n",
       "2   NaN         15      NaN        NaN            NaN  Russian Federation   \n",
       "3  25.0         18      NaN        NaN            NaN             Albania   \n",
       "4  31.0         16      NaN        NaN            NaN       United States   \n",
       "\n",
       "     CurrencyDesc     ...                       SurveyEase  \\\n",
       "0   European Euro     ...       Neither easy nor difficult   \n",
       "1  Pound sterling     ...                              NaN   \n",
       "2             NaN     ...       Neither easy nor difficult   \n",
       "3    Albanian lek     ...                              NaN   \n",
       "4             NaN     ...                             Easy   \n",
       "\n",
       "            SurveyLength Trans  \\\n",
       "0  Appropriate in length    No   \n",
       "1                    NaN   NaN   \n",
       "2  Appropriate in length   NaN   \n",
       "3                    NaN    No   \n",
       "4              Too short    No   \n",
       "\n",
       "                                      UndergradMajor WebframeDesireNextYear  \\\n",
       "0  Computer science, computer engineering, or sof...           ASP.NET Core   \n",
       "1  Computer science, computer engineering, or sof...                    NaN   \n",
       "2                                                NaN                    NaN   \n",
       "3  Computer science, computer engineering, or sof...                    NaN   \n",
       "4  Computer science, computer engineering, or sof...   Django;Ruby on Rails   \n",
       "\n",
       "     WebframeWorkedWith                             WelcomeChange WorkWeekHrs  \\\n",
       "0  ASP.NET;ASP.NET Core   Just as welcome now as I felt last year        50.0   \n",
       "1                   NaN  Somewhat more welcome now than last year         NaN   \n",
       "2                   NaN  Somewhat more welcome now than last year         NaN   \n",
       "3                   NaN  Somewhat less welcome now than last year        40.0   \n",
       "4         Ruby on Rails   Just as welcome now as I felt last year         NaN   \n",
       "\n",
       "  YearsCode YearsCodePro  \n",
       "0        36           27  \n",
       "1         7            4  \n",
       "2         4          NaN  \n",
       "3         7            4  \n",
       "4        15            8  \n",
       "\n",
       "[5 rows x 61 columns]"
      ]
     },
     "execution_count": 170,
     "metadata": {},
     "output_type": "execute_result"
    }
   ],
   "source": [
    "import pandas as pd\n",
    "import numpy as np\n",
    "import matplotlib.pyplot as plt\n",
    "df = pd.read_csv('./data/survey_results_public.csv')\n",
    "df.head()"
   ]
  },
  {
   "cell_type": "markdown",
   "metadata": {},
   "source": [
    "<h2 id='part1'>Overview the dataset</h2>"
   ]
  },
  {
   "cell_type": "code",
   "execution_count": 171,
   "metadata": {
    "scrolled": false
   },
   "outputs": [
    {
     "name": "stdout",
     "output_type": "stream",
     "text": [
      "rows= 64461 cols= 61\n",
      "columns ['Respondent', 'MainBranch', 'Hobbyist', 'Age', 'Age1stCode', 'CompFreq', 'CompTotal', 'ConvertedComp', 'Country', 'CurrencyDesc', 'CurrencySymbol', 'DatabaseDesireNextYear', 'DatabaseWorkedWith', 'DevType', 'EdLevel', 'Employment', 'Ethnicity', 'Gender', 'JobFactors', 'JobSat', 'JobSeek', 'LanguageDesireNextYear', 'LanguageWorkedWith', 'MiscTechDesireNextYear', 'MiscTechWorkedWith', 'NEWCollabToolsDesireNextYear', 'NEWCollabToolsWorkedWith', 'NEWDevOps', 'NEWDevOpsImpt', 'NEWEdImpt', 'NEWJobHunt', 'NEWJobHuntResearch', 'NEWLearn', 'NEWOffTopic', 'NEWOnboardGood', 'NEWOtherComms', 'NEWOvertime', 'NEWPurchaseResearch', 'NEWPurpleLink', 'NEWSOSites', 'NEWStuck', 'OpSys', 'OrgSize', 'PlatformDesireNextYear', 'PlatformWorkedWith', 'PurchaseWhat', 'Sexuality', 'SOAccount', 'SOComm', 'SOPartFreq', 'SOVisitFreq', 'SurveyEase', 'SurveyLength', 'Trans', 'UndergradMajor', 'WebframeDesireNextYear', 'WebframeWorkedWith', 'WelcomeChange', 'WorkWeekHrs', 'YearsCode', 'YearsCodePro']\n"
     ]
    }
   ],
   "source": [
    "num_rows = df.shape[0] #Provide the number of rows in the dataset\n",
    "num_cols = df.shape[1] #Provide the number of columns in the dataset\n",
    "print(\"rows=\",num_rows, \"cols=\",num_cols )\n",
    "print(\"columns\", df.columns.tolist())"
   ]
  },
  {
   "cell_type": "markdown",
   "metadata": {},
   "source": [
    "The result shows us There are 64461 rows and 61 columns in the dataset. There are 'LanguageDesireNextYear','PlatformDesireNextYear' and 'DatabaseWorkedWith' which could help me answer the previous questions."
   ]
  },
  {
   "cell_type": "code",
   "execution_count": 172,
   "metadata": {},
   "outputs": [
    {
     "name": "stdout",
     "output_type": "stream",
     "text": [
      "Python                            1152\n",
      "Rust                               528\n",
      "HTML/CSS;JavaScript;TypeScript     499\n",
      "C#                                 461\n",
      "Go                                 412\n",
      "Name: LanguageDesireNextYear, dtype: int64\n"
     ]
    }
   ],
   "source": [
    "desire_L = df.LanguageDesireNextYear.value_counts()#Provide a pandas series of the counts for each value\n",
    "print(desire_L.head())"
   ]
  },
  {
   "cell_type": "markdown",
   "metadata": {},
   "source": [
    "the top 5 values of \"LanguageDesireNextYear\":\n",
    "Python 1152, Rust 528, HTML/CSS;JavaScript;TypeScript 499, C# 461, Go 412\n",
    "\n",
    "The value is possible combination which should be splited. Then the follwing code works on spliting value, and add up the numbers of single value."
   ]
  },
  {
   "cell_type": "code",
   "execution_count": 173,
   "metadata": {},
   "outputs": [],
   "source": [
    "\"\"\"\n",
    "init: dataset, column wihch need be splited, initial a dictionary\n",
    "function: split the cabination categories and the store it in dic, the key of dic is single category. \n",
    "If the the category has aready in dic, add 1 on the value. \n",
    "\"\"\"\n",
    "\n",
    "class helper():\n",
    "    \n",
    "    def __init__(self, column, dataframe):\n",
    "        self.column = column\n",
    "        self.dataframe = dataframe.dropna(subset = [self.column], how = \"all\")# Drop the rows with missing values \n",
    "        self.dic = {}\n",
    "    \n",
    "    def split_sum_value(self):\n",
    "        self.dataframe.reset_index(drop=True,inplace=True)\n",
    "        \n",
    "        for i in range(self.dataframe.shape[0]): \n",
    "                \n",
    "                temp_list = self.dataframe[self.column][i].split(\";\")# split combination value\n",
    "                \n",
    "                for j in range(len(temp_list)):\n",
    "                    if temp_list[j] in self.dic:\n",
    "                        self.dic[temp_list[j]] += 1\n",
    "                    else:\n",
    "                        self.dic[temp_list[j]] = 1\n",
    "                        \n",
    "        return self.dic"
   ]
  },
  {
   "cell_type": "code",
   "execution_count": 174,
   "metadata": {},
   "outputs": [
    {
     "data": {
      "image/png": "[encoded data removed]",
      "text/plain": [
       "<matplotlib.figure.Figure at 0x24a471492e8>"
      ]
     },
     "metadata": {},
     "output_type": "display_data"
    },
    {
     "name": "stdout",
     "output_type": "stream",
     "text": [
      "Which lauguage will most people desire in 2021? answer: Python\n"
     ]
    }
   ],
   "source": [
    "#creat a helper instance and call the split_sum_value() function\n",
    "LanguageDesireNextYear_sum = helper(\"LanguageDesireNextYear\", df)\n",
    "dict_1 = LanguageDesireNextYear_sum.split_sum_value()\n",
    "dict_1 = dict((sorted(dict_1.items(), key=lambda item: item[1])))\n",
    "\n",
    "#creat bar chart\n",
    "plt.bar(range(len(dict_1)), list(dict_1.values()), align='center')\n",
    "plt.title(\"The rank of LanguageDesireNextYear\")\n",
    "plt.xticks(range(len(dict_1)), list(dict_1.keys()),rotation='vertical')\n",
    "plt.tight_layout() #make room for the label.\n",
    "\n",
    "#save figure and get the result\n",
    "plt.savefig('The_rank_of_LanguageDesireNextYear.png')\n",
    "plt.show()\n",
    "print(\"Which lauguage will most people desire in 2021? answer:\",max(dict_1, key=dict_1.get) )"
   ]
  },
  {
   "cell_type": "code",
   "execution_count": 175,
   "metadata": {},
   "outputs": [
    {
     "data": {
      "image/png": "[encoded data removed]",
      "text/plain": [
       "<matplotlib.figure.Figure at 0x24a4ea93eb8>"
      ]
     },
     "metadata": {},
     "output_type": "display_data"
    },
    {
     "name": "stdout",
     "output_type": "stream",
     "text": [
      "Which Database will most people desire in 2021? answer: PostgreSQL\n"
     ]
    }
   ],
   "source": [
    "#creat a helper instance and call the split_sum_value() function\n",
    "DatabaseDesireNextYear_sum = helper(\"DatabaseDesireNextYear\", df)\n",
    "dict_2 = DatabaseDesireNextYear_sum.split_sum_value()\n",
    "dict_2 = dict((sorted(dict_2.items(), key=lambda item: item[1])))\n",
    "\n",
    "#creat bar chart\n",
    "plt.bar(range(len(dict_2)), list(dict_2.values()), align='center')\n",
    "plt.title(\"The rank of DatabaseDesireNextYear\")\n",
    "plt.xticks(range(len(dict_2)), list(dict_2.keys()),rotation='vertical')\n",
    "plt.tight_layout()\n",
    "\n",
    "#save figure and get the result\n",
    "plt.savefig('The_rank_of_DatabaseDesireNextYear.png')\n",
    "plt.show()\n",
    "print(\"Which Database will most people desire in 2021? answer:\",max(dict_2, key=dict_2.get) )"
   ]
  },
  {
   "cell_type": "code",
   "execution_count": 176,
   "metadata": {},
   "outputs": [
    {
     "data": {
      "image/png": "[encoded data removed]",
      "text/plain": [
       "<matplotlib.figure.Figure at 0x24a46ff8080>"
      ]
     },
     "metadata": {},
     "output_type": "display_data"
    },
    {
     "name": "stdout",
     "output_type": "stream",
     "text": [
      "Which Platform will most people desire in 2021? answer: Linux\n"
     ]
    }
   ],
   "source": [
    "#creat a helper instance and call the split_sum_value() function\n",
    "PlatformDesireNextYear_sum = helper(\"PlatformDesireNextYear\", df)\n",
    "dict_3 = PlatformDesireNextYear_sum.split_sum_value()\n",
    "dict_3 = dict((sorted(dict_3.items(), key=lambda item: item[1])))\n",
    "\n",
    "#creat bar chart\n",
    "plt.bar(range(len(dict_3)), list(dict_3.values()), align='center')\n",
    "plt.title(\"The rank of PlatformDesireNextYear\")\n",
    "plt.xticks(range(len(dict_3)), list(dict_3.keys()),rotation='vertical')\n",
    "plt.tight_layout()\n",
    "\n",
    "#save figure and get the result\n",
    "plt.savefig('The_rank_of_PlatformDesireNextYear.png')\n",
    "plt.show()\n",
    "print(\"Which Platform will most people desire in 2021? answer:\",max(dict_3, key=dict_3.get) )"
   ]
  }
 ],
 "metadata": {
  "kernelspec": {
   "display_name": "p36workshop",
   "language": "python",
   "name": "p36workshop"
  },
  "language_info": {
   "codemirror_mode": {
    "name": "ipython",
    "version": 3
   },
   "file_extension": ".py",
   "mimetype": "text/x-python",
   "name": "python",
   "nbconvert_exporter": "python",
   "pygments_lexer": "ipython3",
   "version": "3.6.1"
  }
 },
 "nbformat": 4,
 "nbformat_minor": 2
}
